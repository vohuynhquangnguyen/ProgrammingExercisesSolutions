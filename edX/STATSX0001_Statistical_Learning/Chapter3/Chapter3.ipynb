{
 "cells": [
  {
   "cell_type": "markdown",
   "metadata": {
    "vscode": {
     "languageId": "plaintext"
    }
   },
   "source": [
    "1. Why is linear regression important to understand?\n",
    "\n",
    "***\n",
    "**Answers:**\n",
    "\n",
    "Linear regression is a simple method. Hence, it has the following properties:\n",
    "* Understanding simpler methods sheds light on more complex ones.\n",
    "* Simple methods can outperform more complex ones if the data are noisy.\n",
    "* Linear regression is very extensible and can be used to capture nonlinear effects. For instance, we can model the following relationship as a basic linear regression model:\n",
    "\n",
    "$$\n",
    "Y = \\beta_1X + \\beta_2X^2 + \\beta_3\\log(X)\n",
    "$$ \n",
    "transformed into:\n",
    "\n",
    "$$\n",
    "Y = \\beta_1X_1 + \\beta_2X_2 + \\beta_3X_3\n",
    "$$\n",
    "\n",
    "with $X_1 = X$, $X_2 = X^2$, and $X_3 = \\log(X)$."
   ]
  },
  {
   "cell_type": "markdown",
   "metadata": {},
   "source": [
    "2. What is true about confidence intervals:\n",
    "\n",
    "***\n",
    "**Answers:**\n",
    "\n",
    "* A 95% confidence interval is a **random interval** that contains the true parameter 95% of the time.\n",
    "* Suppose the true parameter is 0.5. If I sample data and construct a 95% confidence interval, the interval will contain the true parameter 95% of the time.\n",
    "\n",
    "Please note that confidence intervals are a \"frequentist\" concept. Hence, the inverval is considered random."
   ]
  },
  {
   "cell_type": "markdown",
   "metadata": {},
   "source": [
    "3. We run a linear regression and the slope estimate is 0.5 with estimated standard error of 0.2. What is the largest value of $b$ for which we would NOT reject the null hypothesis that $\\beta_1 = b$? (assume normal approximation to $t$ distribution, and that we are using the 5% significance level for a two-sided test; need two significant digits of accuracy).\n",
    "\n",
    "***\n",
    "**Answers:**\n",
    "\n",
    "Given the following assumptions and conditions:\n",
    "* Assuming normal approximation to $t$ distribution.\n",
    "* Using the 5% significance level for a two-sided test.\n",
    "\n",
    "The critical values are given as: $z_{\\alpha/2} = -1.959$ and $z_{1-\\alpha/2} = 1.959$.\n",
    "\n",
    "The test statistic is given as: \n",
    "$$\n",
    "Z_{\\beta_1} = \\frac{\\hat{\\beta}_1 - b}{\\text{SE}}\n",
    "$$\n",
    "\n",
    "Therefore, the largest value of $b$ for which we would not reject the null hypothesis is given as:\n",
    "$$\n",
    "\\frac{\\hat{\\beta}_1 - b}{\\text{SE}} = z_{1-\\alpha/2} \\quad \\therefore b = \\hat{\\beta}_1 + z_{1-\\alpha/2}\\times \\text{SE} = 0.89180\n",
    "$$"
   ]
  },
  {
   "cell_type": "markdown",
   "metadata": {},
   "source": [
    "4. Which of the following indicates a fairly strong relationship between $X$ and $Y$?\n",
    "\n",
    "***\n",
    "\n",
    "**Answers:**\n",
    "\n",
    "* $R^2 = 0.9$ since the coefficient of determination measures the correlation between two variables. Hence, the higher this value the stronger the association.\n",
    "\n",
    "Please noted that the p-value and t-statistic merely measure how strong is the evidence that there is a nonzero association. Hence, even a weak effect can be extremely significant given enough data.\n",
    "\n"
   ]
  },
  {
   "cell_type": "markdown",
   "metadata": {},
   "source": [
    "5. Suppose we are interested in learning about a relationship between $X_1$ and $Y$, which we would ideally like to interpret as causal. \n",
    "\n",
    "***\n",
    "\n",
    "**Answers:**\n",
    "\n",
    "The statement **The estimate $\\hat{\\beta}_1$ in a linear regression that controls for many variables (that is, a regression with many predictors in addition to $X_1$) is usually a more reliable measure of a causal relationship than $\\hat{\\beta}_1$ from a univariate regression on $X_1$** is FALSE because:\n",
    "\n",
    "* Causal inference is a difficult and slippery topic, which cannot be answered with observational data alone without additional assumptions.\n",
    "* Adding lots of extra predictors to the model can easily muddy the interpretation of $\\hat{\\beta}_1$."
   ]
  },
  {
   "cell_type": "markdown",
   "metadata": {},
   "source": [
    "6. Given a linear model with a multi-level explanatory variable constructed to describe the relationship between balance and ethnicity (African-American, Asian, Caucassian) as follows:\n",
    "\n",
    "$$\n",
    "\\hat{y} = \\hat{\\beta}_0 + \\hat{\\beta}_1x_1 + \\hat{\\beta}_2x_2 \n",
    "$$\n",
    "with $x_1 = 0$ meaning  \n",
    "\n",
    "***\n",
    "**Answers:**\n",
    "\n",
    "* The predicted balance for an Asian in the dataset is $\\hat{\\beta}_0 + \\hat{\\beta}_1x_1 = 512.31$ with $x_1 = 1$.\n",
    "* The predicted balance for an African American in the dataset is $\\hat{\\beta}_0 = 531.00$."
   ]
  },
  {
   "cell_type": "markdown",
   "metadata": {},
   "source": [
    "What is the difference between `lm(y ~ x*z)` and `lm(y ~ I(x*z)`, when `x` and `z` are both numeric variables?"
   ]
  },
  {
   "cell_type": "markdown",
   "metadata": {},
   "source": []
  }
 ],
 "metadata": {
  "kernelspec": {
   "display_name": "base",
   "language": "python",
   "name": "python3"
  },
  "language_info": {
   "codemirror_mode": {
    "name": "ipython",
    "version": 3
   },
   "file_extension": ".py",
   "mimetype": "text/x-python",
   "name": "python",
   "nbconvert_exporter": "python",
   "pygments_lexer": "ipython3",
   "version": "3.11.5"
  }
 },
 "nbformat": 4,
 "nbformat_minor": 2
}
